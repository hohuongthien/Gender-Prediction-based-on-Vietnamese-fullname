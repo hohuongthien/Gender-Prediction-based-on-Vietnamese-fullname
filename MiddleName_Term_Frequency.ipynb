{
 "cells": [
  {
   "cell_type": "markdown",
   "metadata": {},
   "source": [
    "- Lấy ra middlename.\n",
    "- Tính TF-IDF của các middlename này."
   ]
  },
  {
   "cell_type": "code",
   "execution_count": 6,
   "metadata": {},
   "outputs": [],
   "source": [
    "import time\n",
    "import re\n",
    "import nltk\n",
    "import numpy as np\n",
    "import pandas as pd"
   ]
  },
  {
   "cell_type": "code",
   "execution_count": 7,
   "metadata": {},
   "outputs": [],
   "source": [
    "# Loading dataset\n",
    "file = pd.read_csv(\"name.csv\", encoding='utf-8')"
   ]
  },
  {
   "cell_type": "code",
   "execution_count": 8,
   "metadata": {},
   "outputs": [
    {
     "name": "stdout",
     "output_type": "stream",
     "text": [
      "(100, 2)\n"
     ]
    }
   ],
   "source": [
    "# Số lượng dòng, cột của file csv\n",
    "print(file.shape)"
   ]
  },
  {
   "cell_type": "code",
   "execution_count": 9,
   "metadata": {},
   "outputs": [],
   "source": [
    "name = file['full_name']\n",
    "label = file['gender']"
   ]
  },
  {
   "cell_type": "code",
   "execution_count": 13,
   "metadata": {},
   "outputs": [],
   "source": [
    "# Tiền xử lý dữ liệu cho full name\n",
    "male_names = ''\n",
    "female_names = ''\n",
    "words = 0\n",
    "\n",
    "for sen in range(0,len(name)):\n",
    "    \n",
    "    # Dòng này đếm số lượng ký tự\n",
    "    #words += len(str(name[sen]).split())\n",
    "    \n",
    "    if (label[sen] == 1) and (len(str(name[sen]).split()) > 2):\n",
    "        # Remove all the special characters\n",
    "        female_name = re.sub(r'\\W', ' ', str(name[sen]))\n",
    "            \n",
    "        # Dòng này dùng để loại bỏ Họ, Tên ra khỏi document (chỉ lấy middlename)\n",
    "        female_name = female_name.split(' ',1)[1]\n",
    "        female_name = female_name.rsplit(' ', 1)[0]\n",
    "        female_name = female_name.strip()    \n",
    "        # Converting to Lowercase\n",
    "        female_name = female_name.lower()\n",
    "        \n",
    "            \n",
    "        female_names = female_names + ' ' + female_name\n",
    "\n",
    "    if (label[sen] == 0) and (len(str(name[sen]).split()) > 2):\n",
    "    \n",
    "        # Remove all the special characters\n",
    "        male_name = re.sub(r'\\W', ' ', str(name[sen]))\n",
    "            \n",
    "        # Dòng này dùng để loại bỏ Họ, Tên ra khỏi document\n",
    "        male_name = male_name.split(' ',1)[1]\n",
    "        male_name = male_name.rsplit(' ', 1)[0]\n",
    "        male_name = male_name.strip()    \n",
    "        # Converting to Lowercase\n",
    "        male_name = male_name.lower()\n",
    "        \n",
    "            \n",
    "        male_names = male_names + ' ' + male_name\n",
    "        \n",
    "        "
   ]
  },
  {
   "cell_type": "code",
   "execution_count": 14,
   "metadata": {},
   "outputs": [
    {
     "name": "stdout",
     "output_type": "stream",
     "text": [
      "['hiếu', 'việt', 'hùng', 'minh', 'đăng', 'an', 'phi', 'vũ', 'bảo', 'long', 'văn', 'nguyễn', 'anh', 'minh', 'long', 'hiếu', 'anh', 'khánh', 'tuấn', 'phú', 'viết', 'minh', 'khúc', 'tinh', 'xuân', 'quang', 'thanh', 'tuấn', 'bảo', 'huy', 'gia', 'minh', 'gia', 'minh', 'hoàng', 'hoàng', 'bảo', 'nhật', 'phụ', 'hoàng', 'nguyễn', 'quang', 'huy', 'hải', 'anh', 'khắc', 'đức', 'phùng', 'bảo', 'minh', 'đình', 'minh', 'trường', 'nguyễn', 'minh', 'sỹ', 'đình', 'vũ', 'bảo', 'việt', 'khôi', 'bình', 'hoàng', 'minh', 'minh', 'đức', 'nguyễn', 'minh', 'đắc']\n",
      "['hoàng', 'quỳnh', 'hồng', 'thị', 'phương', 'hoàng', 'quỳnh', 'yến', 'tú', 'diệu', 'thị', 'vân', 'thanh', 'ngọc', 'hoàng', 'an', 'hà', 'bảo', 'hải', 'bảo', 'minh', 'ngọc', 'minh', 'phương', 'minh', 'bảo', 'nguyễn', 'ngân', 'vũ', 'an', 'gia', 'ngọc', 'phương', 'bảo', 'khánh', 'hoàng', 'mai', 'ngọc', 'anh', 'hoàng', 'thảo', 'trần', 'mỹ', 'minh', 'ngọc', 'châu', 'bảo', 'minh', 'hà', 'nguyễn', 'thanh', 'mỹ', 'minh', 'thảo', 'linh', 'nguyễn', 'tuệ', 'doãn', 'khánh', 'an', 'tuệ', 'minh', 'hà', 'an']\n"
     ]
    }
   ],
   "source": [
    "male_names = male_names.split()\n",
    "female_names = female_names.split()\n",
    "\n",
    "#print(male_names)\n",
    "#print(female_names)"
   ]
  },
  {
   "cell_type": "code",
   "execution_count": 15,
   "metadata": {},
   "outputs": [],
   "source": [
    "#Tạo featureset là tất cả các từ trong middlename của male và female\n",
    "featuresets = []\n",
    "\n",
    "for i in range(0,len(female_names)):\n",
    "    a = (female_names[i],'female')\n",
    "    featuresets.append(a)\n",
    "    \n",
    "for i in range(0,len(male_names)):\n",
    "    a = (male_names[i],'male')\n",
    "    featuresets.append(a)\n",
    "    \n",
    "#print(featuresets)"
   ]
  },
  {
   "cell_type": "code",
   "execution_count": 16,
   "metadata": {},
   "outputs": [],
   "source": [
    "import random \n",
    "random.shuffle(featuresets) "
   ]
  },
  {
   "cell_type": "code",
   "execution_count": 17,
   "metadata": {},
   "outputs": [],
   "source": [
    "#print(featuresets)"
   ]
  },
  {
   "cell_type": "code",
   "execution_count": 18,
   "metadata": {},
   "outputs": [],
   "source": [
    "X = []\n",
    "Y = []\n",
    "for i in range(0,len(featuresets)):\n",
    "    X.append(featuresets[i][0])\n",
    "    Y.append(featuresets[i][1])\n",
    "    \n",
    "#print(X)\n",
    "#print(Y)"
   ]
  },
  {
   "cell_type": "code",
   "execution_count": 19,
   "metadata": {},
   "outputs": [
    {
     "data": {
      "text/plain": [
       "133"
      ]
     },
     "execution_count": 19,
     "metadata": {},
     "output_type": "execute_result"
    }
   ],
   "source": [
    "len(Y)"
   ]
  },
  {
   "cell_type": "code",
   "execution_count": 20,
   "metadata": {},
   "outputs": [],
   "source": [
    "from sklearn.model_selection import train_test_split\n",
    "from sklearn.feature_extraction.text import TfidfVectorizer\n",
    "\n",
    "vectorizer = TfidfVectorizer(use_idf=False, max_features=1500, min_df=5, max_df=0.7)\n",
    "X = vectorizer.fit_transform(X).toarray()\n",
    "\n",
    "X_Train, X_Test, Y_Train, Y_Test = train_test_split(X, Y, test_size = 0.4, random_state = 0)"
   ]
  },
  {
   "cell_type": "code",
   "execution_count": 21,
   "metadata": {},
   "outputs": [
    {
     "name": "stdout",
     "output_type": "stream",
     "text": [
      "Thời gian huấn Logistic Regression:  2.3223659992218018  giây\n"
     ]
    }
   ],
   "source": [
    "# Xây dựng mô hình huấn luyện bằng Logistic Regression\n",
    "\n",
    "from sklearn.linear_model import LogisticRegression\n",
    "start = time.time()\n",
    "\n",
    "classifier_LR = LogisticRegression(fit_intercept=True, n_jobs=4)\n",
    "classifier_LR.fit(X_Train, Y_Train)\n",
    "\n",
    "end = time.time()\n",
    "\n",
    "print(\"Thời gian huấn Logistic Regression: \", str(end-start), \" giây\")"
   ]
  },
  {
   "cell_type": "code",
   "execution_count": 22,
   "metadata": {},
   "outputs": [
    {
     "name": "stdout",
     "output_type": "stream",
     "text": [
      "Thời gian huấn luyện Naive Bayes:  0.0031609535217285156  giây\n"
     ]
    }
   ],
   "source": [
    "# Xây dựng mô hình huấn luyện bằng NaiveBayes\n",
    "from sklearn.naive_bayes import BernoulliNB\n",
    "\n",
    "start = time.time()\n",
    "\n",
    "classifier_NB = BernoulliNB(binarize=None)\n",
    "classifier_NB.fit(X_Train, Y_Train)\n",
    "\n",
    "end = time.time()\n",
    "\n",
    "print(\"Thời gian huấn luyện Naive Bayes: \", str(end-start), \" giây\")"
   ]
  },
  {
   "cell_type": "code",
   "execution_count": 23,
   "metadata": {},
   "outputs": [
    {
     "name": "stdout",
     "output_type": "stream",
     "text": [
      "Thời gian huấn luyện Random Forest:  0.28758835792541504  giây\n"
     ]
    }
   ],
   "source": [
    "from sklearn.ensemble import RandomForestClassifier\n",
    "\n",
    "# Thêm biến này vào để kiểm tra thời gian huấn luyện\n",
    "start = time.time()\n",
    "\n",
    "classifier_RF = RandomForestClassifier(n_estimators=100, random_state=0)\n",
    "classifier_RF.fit(X_Train, Y_Train) \n",
    "\n",
    "end = time.time()\n",
    "\n",
    "\n",
    "print(\"Thời gian huấn luyện Random Forest: \", str(end-start), \" giây\")"
   ]
  },
  {
   "cell_type": "code",
   "execution_count": 24,
   "metadata": {},
   "outputs": [
    {
     "name": "stdout",
     "output_type": "stream",
     "text": [
      "Thời gian huấn luyện KNN:  0.005145549774169922  giây\n"
     ]
    }
   ],
   "source": [
    "# Xây dựng mô hình huấn luyện bằng KNN\n",
    "\n",
    "from sklearn.neighbors import KNeighborsClassifier\n",
    "\n",
    "start = time.time()\n",
    "\n",
    "classifier_KNN = KNeighborsClassifier(n_neighbors=5)\n",
    "classifier_KNN.fit(X_Train, Y_Train)\n",
    "\n",
    "end = time.time()\n",
    "\n",
    "print(\"Thời gian huấn luyện KNN: \", str(end-start), \" giây\")"
   ]
  },
  {
   "cell_type": "code",
   "execution_count": 25,
   "metadata": {},
   "outputs": [],
   "source": [
    "# Predicting the test set results with LogisticRegresion\n",
    "Y_Pred_LR = classifier_LR.predict(X_Test)\n",
    "\n",
    "# Predicting the test set results with Naive Bayes\n",
    "Y_Pred_NB = classifier_NB.predict(X_Test)\n",
    "\n",
    "# Predicting the test set results with RF \n",
    "Y_Pred_RF = classifier_RF.predict(X_Test)\n",
    "\n",
    "Y_Pred_KNN = classifier_KNN.predict(X_Test)"
   ]
  },
  {
   "cell_type": "code",
   "execution_count": 26,
   "metadata": {},
   "outputs": [
    {
     "name": "stdout",
     "output_type": "stream",
     "text": [
      "Accuracy LogisticRegression:  0.5185185185185185\n",
      "Accuracy Naive Bayes:  0.5185185185185185\n",
      "Accuracy RF:  0.5\n",
      "Accuracy KNN:  0.5185185185185185\n"
     ]
    }
   ],
   "source": [
    "from sklearn.metrics import classification_report, confusion_matrix, accuracy_score\n",
    "\n",
    "print('Accuracy LogisticRegression: ', accuracy_score(Y_Test, Y_Pred_LR))\n",
    "print('Accuracy Naive Bayes: ', accuracy_score(Y_Test,Y_Pred_NB))\n",
    "print('Accuracy RF: ', accuracy_score(Y_Test, Y_Pred_RF))\n",
    "print('Accuracy KNN: ', accuracy_score(Y_Test, Y_Pred_KNN))"
   ]
  },
  {
   "cell_type": "code",
   "execution_count": null,
   "metadata": {},
   "outputs": [],
   "source": []
  },
  {
   "cell_type": "code",
   "execution_count": null,
   "metadata": {},
   "outputs": [],
   "source": []
  }
 ],
 "metadata": {
  "kernelspec": {
   "display_name": "Python 3",
   "language": "python",
   "name": "python3"
  },
  "language_info": {
   "codemirror_mode": {
    "name": "ipython",
    "version": 3
   },
   "file_extension": ".py",
   "mimetype": "text/x-python",
   "name": "python",
   "nbconvert_exporter": "python",
   "pygments_lexer": "ipython3",
   "version": "3.7.6"
  }
 },
 "nbformat": 4,
 "nbformat_minor": 2
}
