{
 "cells": [
  {
   "cell_type": "markdown",
   "metadata": {},
   "source": [
    "- Lấy ra middlename.\n",
    "- Tính TF-IDF của các middlename này."
   ]
  },
  {
   "cell_type": "code",
   "execution_count": 1,
   "metadata": {},
   "outputs": [],
   "source": [
    "import time\n",
    "import re\n",
    "import nltk\n",
    "import numpy as np\n",
    "import pandas as pd"
   ]
  },
  {
   "cell_type": "code",
   "execution_count": 23,
   "metadata": {},
   "outputs": [],
   "source": [
    "# Loading dataset\n",
    "file = pd.read_csv(\"name1.csv\", encoding='utf-8')"
   ]
  },
  {
   "cell_type": "code",
   "execution_count": 24,
   "metadata": {},
   "outputs": [
    {
     "name": "stdout",
     "output_type": "stream",
     "text": [
      "(228511, 2)\n"
     ]
    }
   ],
   "source": [
    "# Số lượng dòng, cột của file csv\n",
    "print(file.shape)"
   ]
  },
  {
   "cell_type": "code",
   "execution_count": 25,
   "metadata": {},
   "outputs": [],
   "source": [
    "name = file['full_name']\n",
    "label = file['gender']"
   ]
  },
  {
   "cell_type": "code",
   "execution_count": 26,
   "metadata": {},
   "outputs": [],
   "source": [
    "# Tiền xử lý dữ liệu cho full name\n",
    "male_documents = []\n",
    "female_documents = []\n",
    "words = 0\n",
    "\n",
    "for sen in range(0, len(name)):\n",
    "    \n",
    "    if (label[sen] == 1):\n",
    "        # Remove all the special characters\n",
    "        document = re.sub(r'\\W', ' ', str(name[sen]))\n",
    "        \n",
    "        # remove all single characters\n",
    "        document = re.sub(r'\\s+[a-zA-Z]\\s+', ' ', document)\n",
    "    \n",
    "        # Remove single characters from the start\n",
    "        document = re.sub(r'\\^[a-zA-Z]\\s+', ' ', document) \n",
    "    \n",
    "        # Substituting multiple spaces with single space\n",
    "        document = re.sub(r'\\s+', ' ', document, flags=re.I)\n",
    "    \n",
    "        # Removing prefixed 'b'\n",
    "        document = re.sub(r'^b\\s+', '', document)\n",
    "    \n",
    "        # Converting to Lowercase\n",
    "        document = document.lower()\n",
    "    \n",
    "        female_documents.append(document)\n",
    "        \n",
    "    else:\n",
    "        # Remove all the special characters\n",
    "        document = re.sub(r'\\W', ' ', str(name[sen]))\n",
    "        \n",
    "        # remove all single characters\n",
    "        document = re.sub(r'\\s+[a-zA-Z]\\s+', ' ', document)\n",
    "    \n",
    "        # Remove single characters from the start\n",
    "        document = re.sub(r'\\^[a-zA-Z]\\s+', ' ', document) \n",
    "    \n",
    "        # Substituting multiple spaces with single space\n",
    "        document = re.sub(r'\\s+', ' ', document, flags=re.I)\n",
    "    \n",
    "        # Removing prefixed 'b'\n",
    "        document = re.sub(r'^b\\s+', '', document)\n",
    "    \n",
    "        # Converting to Lowercase\n",
    "        document = document.lower()\n",
    "    \n",
    "        male_documents.append(document)"
   ]
  },
  {
   "cell_type": "code",
   "execution_count": 27,
   "metadata": {},
   "outputs": [],
   "source": [
    "#print(male_documents)\n",
    "#print(female_documents)"
   ]
  },
  {
   "cell_type": "code",
   "execution_count": 28,
   "metadata": {},
   "outputs": [],
   "source": [
    "# Thực hiện n-gram cho từng tên theo gender\n",
    "featuresets = []\n",
    "\n",
    "from sklearn.feature_extraction.text import CountVectorizer\n",
    "bigram_vectorizer = CountVectorizer(analyzer=\"word\",ngram_range=(2, 2),token_pattern=r'\\b\\w+\\b', min_df=1,max_features=300)\n",
    "\n",
    "# Lấy n-gram đưa vào list featureset\n",
    "# Thực hiện đối với  n-gram của male\n",
    "male_gram = bigram_vectorizer.fit_transform(male_documents)\n",
    "male_ngram = bigram_vectorizer.get_feature_names()\n",
    "for i in range(0,len(male_ngram)):\n",
    "    a = (male_ngram[i],'male')\n",
    "    featuresets.append(a)\n",
    "\n",
    "# Lấy n-gram đưa vào list featureset\n",
    "# Thực hiện đối với  n-gram của female\n",
    "female_ngram = bigram_vectorizer.fit_transform(female_documents)\n",
    "female_ngram = bigram_vectorizer.get_feature_names()\n",
    "for i in range(0,len(female_ngram)):\n",
    "    a = (female_ngram[i],'female')\n",
    "    featuresets.append(a)"
   ]
  },
  {
   "cell_type": "code",
   "execution_count": 29,
   "metadata": {},
   "outputs": [
    {
     "data": {
      "text/plain": [
       "300"
      ]
     },
     "execution_count": 29,
     "metadata": {},
     "output_type": "execute_result"
    }
   ],
   "source": [
    "len(male_ngram)\n",
    "#print(female_ngram)"
   ]
  },
  {
   "cell_type": "code",
   "execution_count": 30,
   "metadata": {},
   "outputs": [],
   "source": [
    "# Tiền xử lý dữ liệu cho full name\n",
    "male_names = ''\n",
    "female_names = ''\n",
    "words = 0\n",
    "\n",
    "for sen in range(0,len(name)):\n",
    "    \n",
    "    # Dòng này đếm số lượng ký tự\n",
    "    #words += len(str(name[sen]).split())\n",
    "    \n",
    "    if (label[sen] == 1) and (len(str(name[sen]).split()) > 2):\n",
    "        # Remove all the special characters\n",
    "        female_name = re.sub(r'\\W', ' ', str(name[sen]))\n",
    "        \n",
    "        # Substituting multiple spaces with single space\n",
    "        female_name = re.sub(r'\\s+', ' ', female_name, flags=re.I)\n",
    "    \n",
    "        # Dòng này dùng để loại bỏ Họ, Tên ra khỏi document (chỉ lấy middlename)\n",
    "        female_name = female_name.split(' ',1)[1]\n",
    "        female_name = female_name.rsplit(' ', 1)[0]\n",
    "           \n",
    "        # remove all single characters\n",
    "        female_name = re.sub(r'\\s+[a-zA-Z]\\s+', ' ', female_name)\n",
    "    \n",
    "        # Remove single characters from the start\n",
    "        female_name = re.sub(r'\\^[a-zA-Z]\\s+', ' ', female_name) \n",
    "    \n",
    "        # Removing prefixed 'b'\n",
    "        female_name = re.sub(r'^b\\s+', '', female_name)\n",
    "    \n",
    "        # Converting to Lowercase\n",
    "        female_name = female_name.lower()\n",
    "        \n",
    "            \n",
    "        female_names = female_names + ' ' + female_name\n",
    "\n",
    "    if (label[sen] == 0) and (len(str(name[sen]).split()) > 2):\n",
    "    \n",
    "        # Remove all the special characters\n",
    "        male_name = re.sub(r'\\W', ' ', str(name[sen]))\n",
    "        \n",
    "        male_name = male_name.strip()\n",
    "        # Substituting multiple spaces with single space\n",
    "        male_name = re.sub(r'\\s+', ' ', male_name, flags=re.I)\n",
    "    \n",
    "        # Dòng này dùng để loại bỏ Họ, Tên ra khỏi document\n",
    "        male_name = male_name.split(' ',1)[1]\n",
    "        male_name = male_name.rsplit(' ', 1)[0]\n",
    "           \n",
    "        # remove all single characters\n",
    "        male_name = re.sub(r'\\s+[a-zA-Z]\\s+', ' ', male_name)\n",
    "    \n",
    "        # Remove single characters from the start\n",
    "        male_name = re.sub(r'\\^[a-zA-Z]\\s+', ' ', male_name) \n",
    "    \n",
    "        # Removing prefixed 'b'\n",
    "        male_name = re.sub(r'^b\\s+', '', male_name)\n",
    "    \n",
    "        # Converting to Lowercase\n",
    "        male_name = male_name.lower()\n",
    "        \n",
    "            \n",
    "        male_names = male_names + ' ' + male_name\n",
    "        \n",
    "        "
   ]
  },
  {
   "cell_type": "code",
   "execution_count": 31,
   "metadata": {},
   "outputs": [],
   "source": [
    "male_names = male_names.split()\n",
    "female_names = female_names.split()\n",
    "\n",
    "#print(male_names)\n",
    "#print(female_names)"
   ]
  },
  {
   "cell_type": "code",
   "execution_count": 32,
   "metadata": {},
   "outputs": [],
   "source": [
    "#Tạo featureset là tất cả các từ trong middlename của male và female\n",
    "\n",
    "for i in range(0,len(female_names)):\n",
    "    a = (female_names[i],'female')\n",
    "    featuresets.append(a)\n",
    "    \n",
    "for i in range(0,len(male_names)):\n",
    "    a = (male_names[i],'male')\n",
    "    featuresets.append(a)\n",
    "    \n",
    "#print(featuresets)"
   ]
  },
  {
   "cell_type": "code",
   "execution_count": 33,
   "metadata": {},
   "outputs": [],
   "source": [
    "import random \n",
    "random.shuffle(featuresets) "
   ]
  },
  {
   "cell_type": "code",
   "execution_count": 34,
   "metadata": {},
   "outputs": [],
   "source": [
    "# Tạo danh sách các middle name và label\n",
    "X = []\n",
    "Y = []\n",
    "for i in range(0,len(featuresets)):\n",
    "    X.append(featuresets[i][0])\n",
    "    Y.append(featuresets[i][1])    "
   ]
  },
  {
   "cell_type": "code",
   "execution_count": 35,
   "metadata": {},
   "outputs": [
    {
     "name": "stdout",
     "output_type": "stream",
     "text": [
      "mẫn\n"
     ]
    }
   ],
   "source": [
    "print(X[10])"
   ]
  },
  {
   "cell_type": "code",
   "execution_count": 36,
   "metadata": {},
   "outputs": [],
   "source": [
    "from sklearn.model_selection import train_test_split\n",
    "from sklearn.feature_extraction.text import TfidfVectorizer\n",
    "\n",
    "vectorizer = TfidfVectorizer(max_features=1500, min_df=5, max_df=0.7)\n",
    "X = vectorizer.fit_transform(X).toarray()\n"
   ]
  },
  {
   "cell_type": "code",
   "execution_count": 37,
   "metadata": {},
   "outputs": [],
   "source": [
    "#lấy các chữ xuất hiện sau khi đã tính TF-IDF\n",
    "#vectorizer.get_feature_names()"
   ]
  },
  {
   "cell_type": "code",
   "execution_count": 38,
   "metadata": {},
   "outputs": [],
   "source": [
    "# Chia dữ liệu training và testing\n",
    "X_Train, X_Test, Y_Train, Y_Test = train_test_split(X, Y, test_size = 0.4, random_state = 0)"
   ]
  },
  {
   "cell_type": "code",
   "execution_count": 18,
   "metadata": {},
   "outputs": [
    {
     "name": "stdout",
     "output_type": "stream",
     "text": [
      "[[0.         0.         0.         ... 0.         0.         0.        ]\n",
      " [0.         0.         0.         ... 0.         0.         0.        ]\n",
      " [0.         0.         0.         ... 0.         0.         0.        ]\n",
      " ...\n",
      " [0.         0.73283576 0.68040558 ... 0.         0.         0.        ]\n",
      " [0.         0.         0.         ... 0.         0.         0.        ]\n",
      " [0.         0.         0.         ... 0.         0.         0.        ]]\n"
     ]
    }
   ],
   "source": [
    "print(X)"
   ]
  },
  {
   "cell_type": "code",
   "execution_count": 39,
   "metadata": {},
   "outputs": [
    {
     "name": "stdout",
     "output_type": "stream",
     "text": [
      "Thời gian huấn Logistic Regression:  711.3293404579163  giây\n"
     ]
    }
   ],
   "source": [
    "# Xây dựng mô hình huấn luyện bằng Logistic Regression\n",
    "\n",
    "from sklearn.linear_model import LogisticRegression\n",
    "start = time.time()\n",
    "\n",
    "classifier_LR = LogisticRegression(fit_intercept=True, n_jobs=4)\n",
    "classifier_LR.fit(X_Train, Y_Train)\n",
    "\n",
    "end = time.time()\n",
    "\n",
    "print(\"Thời gian huấn Logistic Regression: \", str(end-start), \" giây\")"
   ]
  },
  {
   "cell_type": "code",
   "execution_count": 40,
   "metadata": {},
   "outputs": [
    {
     "name": "stdout",
     "output_type": "stream",
     "text": [
      "Thời gian huấn luyện Naive Bayes:  3.4926631450653076  giây\n"
     ]
    }
   ],
   "source": [
    "# Xây dựng mô hình huấn luyện bằng NaiveBayes\n",
    "from sklearn.naive_bayes import BernoulliNB\n",
    "\n",
    "start = time.time()\n",
    "\n",
    "classifier_NB = BernoulliNB(binarize=None)\n",
    "classifier_NB.fit(X_Train, Y_Train)\n",
    "\n",
    "end = time.time()\n",
    "\n",
    "print(\"Thời gian huấn luyện Naive Bayes: \", str(end-start), \" giây\")"
   ]
  },
  {
   "cell_type": "code",
   "execution_count": 41,
   "metadata": {},
   "outputs": [],
   "source": [
    "# Predicting the test set results with LogisticRegresion\n",
    "Y_Pred_LR = classifier_LR.predict(X_Test)\n",
    "\n",
    "# Predicting the test set results with Naive Bayes\n",
    "Y_Pred_NB = classifier_NB.predict(X_Test)\n"
   ]
  },
  {
   "cell_type": "code",
   "execution_count": 42,
   "metadata": {},
   "outputs": [
    {
     "name": "stdout",
     "output_type": "stream",
     "text": [
      "Accuracy LogisticRegression:  0.7953863216266174\n",
      "Accuracy Naive Bayes:  0.7952458410351202\n"
     ]
    }
   ],
   "source": [
    "from sklearn.metrics import classification_report, confusion_matrix, accuracy_score\n",
    "\n",
    "print('Accuracy LogisticRegression: ', accuracy_score(Y_Test, Y_Pred_LR))\n",
    "print('Accuracy Naive Bayes: ', accuracy_score(Y_Test,Y_Pred_NB))\n",
    "#print('Accuracy SVM: ', accuracy_score(Y_Test, Y_Pred_SVM))"
   ]
  },
  {
   "cell_type": "code",
   "execution_count": null,
   "metadata": {},
   "outputs": [],
   "source": []
  },
  {
   "cell_type": "code",
   "execution_count": null,
   "metadata": {},
   "outputs": [],
   "source": []
  }
 ],
 "metadata": {
  "kernelspec": {
   "display_name": "Python 3",
   "language": "python",
   "name": "python3"
  },
  "language_info": {
   "codemirror_mode": {
    "name": "ipython",
    "version": 3
   },
   "file_extension": ".py",
   "mimetype": "text/x-python",
   "name": "python",
   "nbconvert_exporter": "python",
   "pygments_lexer": "ipython3",
   "version": "3.7.6"
  }
 },
 "nbformat": 4,
 "nbformat_minor": 2
}
