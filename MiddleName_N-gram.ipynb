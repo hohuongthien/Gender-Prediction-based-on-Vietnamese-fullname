{
 "cells": [
  {
   "cell_type": "markdown",
   "metadata": {},
   "source": [
    "- Lấy ra middlename.\n",
    "- N-gram cho các middlename này."
   ]
  },
  {
   "cell_type": "code",
   "execution_count": 1,
   "metadata": {},
   "outputs": [],
   "source": [
    "import time\n",
    "import re\n",
    "import nltk\n",
    "import numpy as np\n",
    "import pandas as pd"
   ]
  },
  {
   "cell_type": "code",
   "execution_count": 2,
   "metadata": {},
   "outputs": [],
   "source": [
    "# Loading dataset\n",
    "file = pd.read_csv(\"VNName_Final.csv\", encoding='utf-8')"
   ]
  },
  {
   "cell_type": "code",
   "execution_count": 3,
   "metadata": {},
   "outputs": [
    {
     "name": "stdout",
     "output_type": "stream",
     "text": [
      "(1147651, 2)\n"
     ]
    }
   ],
   "source": [
    "# Số lượng dòng, cột của file csv\n",
    "print(file.shape)"
   ]
  },
  {
   "cell_type": "code",
   "execution_count": 4,
   "metadata": {},
   "outputs": [],
   "source": [
    "name = file['full_name']\n",
    "label = file['gender']"
   ]
  },
  {
   "cell_type": "code",
   "execution_count": 5,
   "metadata": {},
   "outputs": [],
   "source": [
    "# Tiền xử lý dữ liệu cho full name\n",
    "male_names = ''\n",
    "female_names = ''\n",
    "words = 0\n",
    "\n",
    "for sen in range(0,len(name)):\n",
    "    \n",
    "    # Dòng này đếm số lượng ký tự\n",
    "    #words += len(str(name[sen]).split())\n",
    "    \n",
    "    if (label[sen] == 1) and (len(str(name[sen]).split()) > 2):\n",
    "        \n",
    "        female_name = re.sub(r'\\W', ' ', str(name[sen])) \n",
    "        # Dòng này dùng để loại bỏ Họ, Tên ra khỏi document (chỉ lấy middlename)\n",
    "        female_name = female_name.split(' ',1)[1]\n",
    "        female_name = female_name.rsplit(' ', 1)[0]\n",
    "        female_name = female_name.strip()    \n",
    "    \n",
    "        # Converting to Lowercase\n",
    "        female_name = female_name.lower()\n",
    "        \n",
    "        if female_name is not '': \n",
    "            female_names = female_names + ' ' + female_name\n",
    "\n",
    "    if (label[sen] == 0) and (len(str(name[sen]).split()) > 2):\n",
    "    \n",
    "        # Remove all the special characters\n",
    "        male_name = re.sub(r'\\W', ' ', str(name[sen]))\n",
    "        # Dòng này dùng để loại bỏ Họ, Tên ra khỏi document\n",
    "        male_name = male_name.split(' ',1)[1]\n",
    "        male_name = male_name.rsplit(' ', 1)[0]\n",
    "        male_name = male_name.strip()   \n",
    "       \n",
    "    \n",
    "        # Converting to Lowercase\n",
    "        male_name = male_name.lower()\n",
    "        \n",
    "        if male_name is not '':    \n",
    "            male_names = male_names + ' ' + male_name\n",
    "        \n",
    "        "
   ]
  },
  {
   "cell_type": "code",
   "execution_count": 6,
   "metadata": {},
   "outputs": [],
   "source": [
    "male_names = male_names.split()\n",
    "female_names = female_names.split()\n",
    "\n",
    "#print(male_names)\n",
    "#print(female_names)"
   ]
  },
  {
   "cell_type": "code",
   "execution_count": 7,
   "metadata": {},
   "outputs": [
    {
     "data": {
      "text/plain": [
       "973615"
      ]
     },
     "execution_count": 7,
     "metadata": {},
     "output_type": "execute_result"
    }
   ],
   "source": [
    "len(male_names)\n",
    "len(female_names)"
   ]
  },
  {
   "cell_type": "code",
   "execution_count": 8,
   "metadata": {},
   "outputs": [],
   "source": [
    "#Tạo featureset là tất cả các từ trong middlename của male và female\n",
    "featuresets = []\n",
    "\n",
    "for i in range(0,len(female_names)):\n",
    "    a = (female_names[i],'female')\n",
    "    featuresets.append(a)\n",
    "    \n",
    "for i in range(0,len(male_names)):\n",
    "    a = (male_names[i],'male')\n",
    "    featuresets.append(a)\n",
    "    \n",
    "#print(featuresets)"
   ]
  },
  {
   "cell_type": "code",
   "execution_count": 9,
   "metadata": {},
   "outputs": [],
   "source": [
    "import random \n",
    "random.shuffle(featuresets) "
   ]
  },
  {
   "cell_type": "code",
   "execution_count": 10,
   "metadata": {},
   "outputs": [],
   "source": [
    "#print(featuresets)"
   ]
  },
  {
   "cell_type": "code",
   "execution_count": 11,
   "metadata": {},
   "outputs": [],
   "source": [
    "X = []\n",
    "Y = []\n",
    "for i in range(0,len(featuresets)):\n",
    "    X.append(featuresets[i][0])\n",
    "    Y.append(featuresets[i][1])\n",
    "    \n",
    "#print(X)\n",
    "#print(Y)"
   ]
  },
  {
   "cell_type": "code",
   "execution_count": 12,
   "metadata": {},
   "outputs": [
    {
     "data": {
      "text/plain": [
       "1766961"
      ]
     },
     "execution_count": 12,
     "metadata": {},
     "output_type": "execute_result"
    }
   ],
   "source": [
    "len(Y)"
   ]
  },
  {
   "cell_type": "code",
   "execution_count": 14,
   "metadata": {},
   "outputs": [],
   "source": [
    "# Using 1-grams and 2-grams \n",
    "from sklearn.model_selection import train_test_split\n",
    "from sklearn.feature_extraction.text import CountVectorizer\n",
    "\n",
    "bigram_vectorizer = CountVectorizer(analyzer=\"word\",ngram_range=(1, 1),token_pattern=r'\\b\\w+\\b', min_df=1,max_features=300)\n",
    "\n",
    "X = bigram_vectorizer.fit_transform(X).toarray()\n",
    "\n",
    "# Splitting the dataset into the Training set and Test set\n",
    "X_Train, X_Test, Y_Train, Y_Test = train_test_split(X, Y, test_size = 0.4, random_state = 0)"
   ]
  },
  {
   "cell_type": "code",
   "execution_count": 17,
   "metadata": {},
   "outputs": [
    {
     "name": "stderr",
     "output_type": "stream",
     "text": [
      "C:\\Users\\admin\\anaconda3\\lib\\site-packages\\sklearn\\linear_model\\_logistic.py:940: ConvergenceWarning: lbfgs failed to converge (status=1):\n",
      "STOP: TOTAL NO. of ITERATIONS REACHED LIMIT.\n",
      "\n",
      "Increase the number of iterations (max_iter) or scale the data as shown in:\n",
      "    https://scikit-learn.org/stable/modules/preprocessing.html\n",
      "Please also refer to the documentation for alternative solver options:\n",
      "    https://scikit-learn.org/stable/modules/linear_model.html#logistic-regression\n",
      "  extra_warning_msg=_LOGISTIC_SOLVER_CONVERGENCE_MSG)\n"
     ]
    },
    {
     "name": "stdout",
     "output_type": "stream",
     "text": [
      "Thời gian huấn Logistic Regression:  44.76429009437561  giây\n"
     ]
    }
   ],
   "source": [
    "# Xây dựng mô hình huấn luyện bằng Logistic Regression\n",
    "\n",
    "from sklearn.linear_model import LogisticRegression\n",
    "start = time.time()\n",
    "\n",
    "classifier_LR = LogisticRegression(fit_intercept=True, n_jobs=1)\n",
    "classifier_LR.fit(X_Train, Y_Train)\n",
    "\n",
    "end = time.time()\n",
    "\n",
    "print(\"Thời gian huấn Logistic Regression: \", str(end-start), \" giây\")"
   ]
  },
  {
   "cell_type": "code",
   "execution_count": 18,
   "metadata": {},
   "outputs": [
    {
     "name": "stdout",
     "output_type": "stream",
     "text": [
      "Thời gian huấn luyện Naive Bayes:  12.781916379928589  giây\n"
     ]
    }
   ],
   "source": [
    "# Xây dựng mô hình huấn luyện bằng NaiveBayes\n",
    "from sklearn.naive_bayes import BernoulliNB\n",
    "\n",
    "start = time.time()\n",
    "\n",
    "classifier_NB = BernoulliNB(binarize=None)\n",
    "classifier_NB.fit(X_Train, Y_Train)\n",
    "\n",
    "end = time.time()\n",
    "\n",
    "print(\"Thời gian huấn luyện Naive Bayes: \", str(end-start), \" giây\")"
   ]
  },
  {
   "cell_type": "code",
   "execution_count": 19,
   "metadata": {},
   "outputs": [
    {
     "name": "stdout",
     "output_type": "stream",
     "text": [
      "Thời gian huấn luyện Random Forest:  4202.073364019394  giây\n"
     ]
    }
   ],
   "source": [
    "from sklearn.ensemble import RandomForestClassifier\n",
    "\n",
    "# Thêm biến này vào để kiểm tra thời gian huấn luyện\n",
    "start = time.time()\n",
    "\n",
    "classifier_RF = RandomForestClassifier(n_estimators=100, random_state=0)\n",
    "classifier_RF.fit(X_Train, Y_Train) \n",
    "\n",
    "end = time.time()\n",
    "\n",
    "\n",
    "print(\"Thời gian huấn luyện Random Forest: \", str(end-start), \" giây\")"
   ]
  },
  {
   "cell_type": "code",
   "execution_count": 119,
   "metadata": {},
   "outputs": [
    {
     "name": "stdout",
     "output_type": "stream",
     "text": [
      "Thời gian huấn luyện KNN:  0.0019941329956054688  giây\n"
     ]
    }
   ],
   "source": [
    "# Xây dựng mô hình huấn luyện bằng KNN\n",
    "\n",
    "from sklearn.neighbors import KNeighborsClassifier\n",
    "\n",
    "start = time.time()\n",
    "\n",
    "classifier_KNN = KNeighborsClassifier(n_neighbors=5)\n",
    "classifier_KNN.fit(X_Train, Y_Train)\n",
    "\n",
    "end = time.time()\n",
    "\n",
    "print(\"Thời gian huấn luyện KNN: \", str(end-start), \" giây\")"
   ]
  },
  {
   "cell_type": "code",
   "execution_count": 20,
   "metadata": {},
   "outputs": [],
   "source": [
    "# Predicting the test set results with LogisticRegresion\n",
    "Y_Pred_LR = classifier_LR.predict(X_Test)\n",
    "\n",
    "# Predicting the test set results with Naive Bayes\n",
    "Y_Pred_NB = classifier_NB.predict(X_Test)\n",
    "\n",
    "# Predicting the test set results with RF \n",
    "Y_Pred_RF = classifier_RF.predict(X_Test)\n",
    "\n",
    "#Y_Pred_KNN = classifier_KNN.predict(X_Test)"
   ]
  },
  {
   "cell_type": "code",
   "execution_count": 21,
   "metadata": {},
   "outputs": [
    {
     "name": "stdout",
     "output_type": "stream",
     "text": [
      "Accuracy LogisticRegression:  0.7595520561415423\n",
      "Accuracy Naive Bayes:  0.7543482105590809\n",
      "Accuracy RF:  0.7595520561415423\n"
     ]
    }
   ],
   "source": [
    "from sklearn.metrics import classification_report, confusion_matrix, accuracy_score\n",
    "\n",
    "print('Accuracy LogisticRegression: ', accuracy_score(Y_Test, Y_Pred_LR))\n",
    "print('Accuracy Naive Bayes: ', accuracy_score(Y_Test,Y_Pred_NB))\n",
    "print('Accuracy RF: ', accuracy_score(Y_Test, Y_Pred_RF))\n",
    "#print('Accuracy KNN: ', accuracy_score(Y_Test, Y_Pred_KNN))"
   ]
  },
  {
   "cell_type": "code",
   "execution_count": null,
   "metadata": {},
   "outputs": [],
   "source": []
  },
  {
   "cell_type": "code",
   "execution_count": null,
   "metadata": {},
   "outputs": [],
   "source": []
  }
 ],
 "metadata": {
  "kernelspec": {
   "display_name": "Python 3",
   "language": "python",
   "name": "python3"
  },
  "language_info": {
   "codemirror_mode": {
    "name": "ipython",
    "version": 3
   },
   "file_extension": ".py",
   "mimetype": "text/x-python",
   "name": "python",
   "nbconvert_exporter": "python",
   "pygments_lexer": "ipython3",
   "version": "3.7.6"
  }
 },
 "nbformat": 4,
 "nbformat_minor": 2
}
