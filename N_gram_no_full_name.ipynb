{
 "cells": [
  {
   "cell_type": "code",
   "execution_count": 1,
   "metadata": {},
   "outputs": [],
   "source": [
    "import time\n",
    "import re\n",
    "import nltk\n",
    "import numpy as np\n",
    "import pandas as pd\n",
    "from nltk.corpus import stopwords"
   ]
  },
  {
   "cell_type": "code",
   "execution_count": 2,
   "metadata": {},
   "outputs": [],
   "source": [
    "# Loading dataset\n",
    "file = pd.read_csv(\"VNname_Final.csv\", encoding='utf-8')"
   ]
  },
  {
   "cell_type": "code",
   "execution_count": 3,
   "metadata": {},
   "outputs": [
    {
     "name": "stdout",
     "output_type": "stream",
     "text": [
      "(1147651, 2)\n"
     ]
    }
   ],
   "source": [
    "# Số lượng dòng, cột của file csv\n",
    "print(file.shape)"
   ]
  },
  {
   "cell_type": "code",
   "execution_count": 4,
   "metadata": {},
   "outputs": [],
   "source": [
    "X = file['full_name']\n",
    "Y = file['gender']"
   ]
  },
  {
   "cell_type": "code",
   "execution_count": 5,
   "metadata": {},
   "outputs": [
    {
     "data": {
      "text/plain": [
       "0    582997\n",
       "1    564654\n",
       "Name: gender, dtype: int64"
      ]
     },
     "execution_count": 5,
     "metadata": {},
     "output_type": "execute_result"
    }
   ],
   "source": [
    "# show number of male and female\n",
    "file['gender'].value_counts()"
   ]
  },
  {
   "cell_type": "code",
   "execution_count": 6,
   "metadata": {},
   "outputs": [],
   "source": [
    "# Tiền xử lý dữ liệu cho full name\n",
    "documents = []\n",
    "#words = 0\n",
    "\n",
    "for sen in range(0, len(X)):\n",
    "    \n",
    "    # Dòng này đếm số lượng ký tự\n",
    "    #words += len(str(X[sen]).split())\n",
    "    \n",
    "    if (len(str(X[sen]).split()) > 1):\n",
    "               \n",
    "        # Remove all the special characters\n",
    "        document = re.sub(r'\\W', ' ', str(X[sen]))\n",
    "    \n",
    "        document = document.strip()\n",
    "        # Remove surename ra khỏi\n",
    "        document = document.split(' ',1)[1]\n",
    "        document = document.strip()\n",
    "            \n",
    "          \n",
    "        # Converting to Lowercase\n",
    "        document = document.lower()\n",
    "    else:\n",
    "        document = re.sub(r'\\W', ' ', str(X[sen]))\n",
    "        document = document.lower()\n",
    "        document = document.strip()\n",
    "        \n",
    "           \n",
    "    documents.append(document)"
   ]
  },
  {
   "cell_type": "code",
   "execution_count": 7,
   "metadata": {},
   "outputs": [],
   "source": [
    "#print(words)"
   ]
  },
  {
   "cell_type": "code",
   "execution_count": 8,
   "metadata": {},
   "outputs": [],
   "source": [
    "# Using 1-grams and 2-grams \n",
    "\n",
    "from sklearn.model_selection import train_test_split\n",
    "from sklearn.feature_extraction.text import CountVectorizer\n",
    "\n",
    "bigram_vectorizer = CountVectorizer(analyzer=\"word\",ngram_range=(1, 1),token_pattern=r'\\b\\w+\\b', min_df=1,max_features=300)\n",
    "\n",
    "X = bigram_vectorizer.fit_transform(documents).toarray()\n",
    "\n",
    "# Splitting the dataset into the Training set and Test set\n",
    "X_Train, X_Test, Y_Train, Y_Test = train_test_split(X, Y, test_size = 0.4, random_state = 0)\n"
   ]
  },
  {
   "cell_type": "code",
   "execution_count": 15,
   "metadata": {},
   "outputs": [],
   "source": [
    "#bigram_vectorizer.get_feature_names()"
   ]
  },
  {
   "cell_type": "code",
   "execution_count": 79,
   "metadata": {},
   "outputs": [],
   "source": [
    "#print(X_Test)\n",
    "#print(Y[1])"
   ]
  },
  {
   "cell_type": "code",
   "execution_count": 9,
   "metadata": {},
   "outputs": [
    {
     "name": "stderr",
     "output_type": "stream",
     "text": [
      "C:\\Users\\admin\\anaconda3\\lib\\site-packages\\sklearn\\linear_model\\_logistic.py:940: ConvergenceWarning: lbfgs failed to converge (status=1):\n",
      "STOP: TOTAL NO. of ITERATIONS REACHED LIMIT.\n",
      "\n",
      "Increase the number of iterations (max_iter) or scale the data as shown in:\n",
      "    https://scikit-learn.org/stable/modules/preprocessing.html\n",
      "Please also refer to the documentation for alternative solver options:\n",
      "    https://scikit-learn.org/stable/modules/linear_model.html#logistic-regression\n",
      "  extra_warning_msg=_LOGISTIC_SOLVER_CONVERGENCE_MSG)\n"
     ]
    },
    {
     "name": "stdout",
     "output_type": "stream",
     "text": [
      "Thời gian huấn luyện Logistic Regression:  41.688626289367676  giây\n"
     ]
    }
   ],
   "source": [
    "from sklearn.linear_model import LogisticRegression\n",
    "start = time.time()\n",
    "\n",
    "classifier_LR = LogisticRegression(fit_intercept=True, n_jobs=1)\n",
    "classifier_LR.fit(X_Train, Y_Train)\n",
    "\n",
    "end = time.time()\n",
    "\n",
    "print(\"Thời gian huấn luyện Logistic Regression: \", str(end-start), \" giây\")"
   ]
  },
  {
   "cell_type": "code",
   "execution_count": 10,
   "metadata": {},
   "outputs": [
    {
     "name": "stdout",
     "output_type": "stream",
     "text": [
      "Thời gian huấn luyện Naive Bayes:  11.584269046783447  giây\n"
     ]
    }
   ],
   "source": [
    "# Xây dựng mô hình huấn luyện bằng NaiveBayes\n",
    "import time\n",
    "from sklearn.naive_bayes import BernoulliNB\n",
    "\n",
    "start = time.time()\n",
    "\n",
    "classifier_NB = BernoulliNB(binarize=None)\n",
    "classifier_NB.fit(X_Train, Y_Train)\n",
    "\n",
    "end = time.time()\n",
    "\n",
    "print(\"Thời gian huấn luyện Naive Bayes: \", str(end-start), \" giây\")"
   ]
  },
  {
   "cell_type": "code",
   "execution_count": 11,
   "metadata": {},
   "outputs": [
    {
     "name": "stdout",
     "output_type": "stream",
     "text": [
      "Thời gian huấn luyện Random Forest:  3901.680053949356  giây\n"
     ]
    }
   ],
   "source": [
    "from sklearn.ensemble import RandomForestClassifier\n",
    "\n",
    "start = time.time()\n",
    "\n",
    "classifier_RF = RandomForestClassifier(n_estimators=100, random_state=0)\n",
    "classifier_RF.fit(X_Train, Y_Train) \n",
    "\n",
    "end = time.time()\n",
    "\n",
    "\n",
    "print(\"Thời gian huấn luyện Random Forest: \", str(end-start), \" giây\")"
   ]
  },
  {
   "cell_type": "code",
   "execution_count": 11,
   "metadata": {},
   "outputs": [
    {
     "name": "stdout",
     "output_type": "stream",
     "text": [
      "Thời gian huấn luyện KNN:  6751.144855737686  giây\n"
     ]
    }
   ],
   "source": [
    "# Xây dựng mô hình huấn luyện bằng KNN\n",
    "\n",
    "from sklearn.neighbors import KNeighborsClassifier\n",
    "\n",
    "start = time.time()\n",
    "\n",
    "classifier_KNN = KNeighborsClassifier(n_neighbors=5)\n",
    "classifier_KNN.fit(X_Train, Y_Train)\n",
    "\n",
    "end = time.time()\n",
    "\n",
    "print(\"Thời gian huấn luyện KNN: \", str(end-start), \" giây\")"
   ]
  },
  {
   "cell_type": "code",
   "execution_count": 12,
   "metadata": {},
   "outputs": [],
   "source": [
    "# Predicting the test set results with LogisticRegresion\n",
    "Y_Pred_LR = classifier_LR.predict(X_Test)\n",
    "\n",
    "# Predicting the test set results with Naive Bayes\n",
    "Y_Pred_NB = classifier_NB.predict(X_Test)\n",
    "\n",
    "# Predicting the test set results with RF \n",
    "Y_Pred_RF = classifier_RF.predict(X_Test)\n",
    "\n",
    "#Y_Pred_KNN = classifier_KNN.predict(X_Test)"
   ]
  },
  {
   "cell_type": "code",
   "execution_count": 13,
   "metadata": {},
   "outputs": [
    {
     "name": "stdout",
     "output_type": "stream",
     "text": [
      "Accuracy LogisticRegression:  0.9084740372194545\n",
      "Accuracy Naive Bayes:  0.9029998191961417\n",
      "Accuracy RF:  0.9048427115350683\n"
     ]
    }
   ],
   "source": [
    "from sklearn.metrics import classification_report, confusion_matrix, accuracy_score\n",
    "\n",
    "print('Accuracy LogisticRegression: ', accuracy_score(Y_Test, Y_Pred_LR))\n",
    "print('Accuracy Naive Bayes: ', accuracy_score(Y_Test,Y_Pred_NB))\n",
    "print('Accuracy RF: ', accuracy_score(Y_Test, Y_Pred_RF))\n",
    "#print('Accuracy KNN: ', accuracy_score(Y_Test, Y_Pred_KNN))"
   ]
  },
  {
   "cell_type": "code",
   "execution_count": null,
   "metadata": {},
   "outputs": [],
   "source": []
  },
  {
   "cell_type": "code",
   "execution_count": null,
   "metadata": {},
   "outputs": [],
   "source": []
  }
 ],
 "metadata": {
  "kernelspec": {
   "display_name": "Python 3",
   "language": "python",
   "name": "python3"
  },
  "language_info": {
   "codemirror_mode": {
    "name": "ipython",
    "version": 3
   },
   "file_extension": ".py",
   "mimetype": "text/x-python",
   "name": "python",
   "nbconvert_exporter": "python",
   "pygments_lexer": "ipython3",
   "version": "3.7.6"
  }
 },
 "nbformat": 4,
 "nbformat_minor": 2
}
